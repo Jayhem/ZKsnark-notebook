{
 "cells": [
  {
   "cell_type": "markdown",
   "metadata": {},
   "source": [
    "# Basic homomorphic encryption\n",
    "Let's start with some basic homomorphic encryption using exponentiation of a generator and modulo\n",
    "\n",
    "The first step is to get a polynomial computed in the unencrypted domain, and in the encrypted domain\n",
    "\n",
    "$$ p(x)= c0 + c1*x + c2*x^2 $$\n",
    "\n",
    "The other way to represent this polynomial is by using co-factors, which uses the roots (solution) of the polynomial.\n",
    "\n",
    "$$ p(x) = (x - r1) * (x - r2) * (x - r3) = 0\n"
   ]
  },
  {
   "cell_type": "code",
   "execution_count": 5,
   "metadata": {},
   "outputs": [
    {
     "data": {
      "text/markdown": [
       "The data consists of 10 observations. Bla, Bla, ...."
      ],
      "text/plain": [
       "<IPython.core.display.Markdown object>"
      ]
     },
     "execution_count": 5,
     "metadata": {},
     "output_type": "execute_result"
    }
   ],
   "source": [
    "from IPython.display import Markdown as md\n",
    "# Instead of setting the cell to Markdown, create Markdown from withnin a code cell!\n",
    "# We can just use python variable replacement syntax to make the text dynamic\n",
    "num_observations = 10\n",
    "md(\"The data consists of {} observations. Bla, Bla, ....\".format(num_observations))\n"
   ]
  }
 ],
 "metadata": {
  "kernelspec": {
   "display_name": "Python 3.9.12 ('base')",
   "language": "python",
   "name": "python3"
  },
  "language_info": {
   "codemirror_mode": {
    "name": "ipython",
    "version": 3
   },
   "file_extension": ".py",
   "mimetype": "text/x-python",
   "name": "python",
   "nbconvert_exporter": "python",
   "pygments_lexer": "ipython3",
   "version": "3.9.12"
  },
  "orig_nbformat": 4,
  "vscode": {
   "interpreter": {
    "hash": "28f81600b685988e0961aa771517c2bd91e7355d4f298dea72f669ae5acff467"
   }
  }
 },
 "nbformat": 4,
 "nbformat_minor": 2
}
