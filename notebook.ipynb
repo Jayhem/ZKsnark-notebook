{
 "cells": [
  {
   "cell_type": "markdown",
   "metadata": {},
   "source": [
    "# Basic homomorphic encryption\n",
    "Let's start with some basic homomorphic encryption using exponentiation of a generator and modulo\n",
    "\n",
    "The first step is to get a polynomial evaluated in the unencrypted domain, encrypt the result.\n",
    "The second step is to evaluate it in the encrypted domain.\n",
    "The third step is to verify whether they match, or not.\n",
    "\n",
    "$$ p(x)= c0 + c1*x + c2*x^2 +c3*x^3 $$\n",
    "\n",
    "The other way to represent this polynomial is by using co-factors, which uses the roots (solution) of the polynomial.\n",
    "\n",
    "$$ p(x) = (x - r1) * (x - r2) * (x - r3) = 0 $$\n"
   ]
  },
  {
   "cell_type": "code",
   "execution_count": 183,
   "metadata": {},
   "outputs": [
    {
     "data": {
      "text/markdown": [
       "$$ p(x)= -150 + 95 * x^1 - 18 * x^2 + 1 * x^3 $$"
      ],
      "text/plain": [
       "<IPython.core.display.Markdown object>"
      ]
     },
     "execution_count": 183,
     "metadata": {},
     "output_type": "execute_result"
    }
   ],
   "source": [
    "from IPython.display import Markdown as md\n",
    "import numpy as np\n",
    "# Values for the user to input, if he wants to\n",
    "generator = 7\n",
    "field_prime = 241\n",
    "#field_prime = 7919\n",
    "\n",
    "# x^3 - 18 x^2 + 80 x - 96 = 0\n",
    "# Co-factors (roots) for this polynomial are [2,4,12]\n",
    "\n",
    "# Let's compute the coefficents from known roots and see what we get. \n",
    "# We'll use numpy's integrated function to do this\n",
    "polynomial_roots = [10,3,5]\n",
    "calculated_coefficients = np.polynomial.polynomial.polyfromroots(polynomial_roots)\n",
    "#print(calculated_coefficients)\n",
    "#p_polynomial_coefficients = [96,80,-18,1]\n",
    "p_polynomial_coefficients = list(map(int,calculated_coefficients.astype(int))) # map back to a list of int\n",
    "#print(p_polynomial_coefficients)\n",
    "target_polynomial_coefficients = []\n",
    "\n",
    "# change_variables = input(\"Do you want to change variables?\")\n",
    "# if change_variables == \"yes\":\n",
    "#     generator = input(\"generator\")\n",
    "\n",
    "equation = \"$$ p(x)= \"\n",
    "\n",
    "for index, coeff in enumerate(p_polynomial_coefficients):\n",
    "\n",
    "    if index == 0:\n",
    "        equation+= str(coeff)\n",
    "    else:\n",
    "        if coeff >= 0:\n",
    "            equation+= (\" + \")\n",
    "        else:\n",
    "            equation+= (\" - \")\n",
    "        equation+= str(abs(coeff))\n",
    "        equation+= (\" * x^{}\".format(index))\n",
    "               \n",
    "equation+= (\" $$\")\n",
    "md(equation)\n",
    "#md(\"$$ p(x)= {} + {}*x + c2*x^2 $$\".format(p_polynomial_coefficients[0],p_polynomial_coefficients[1]))"
   ]
  },
  {
   "cell_type": "code",
   "execution_count": 184,
   "metadata": {},
   "outputs": [
    {
     "name": "stdout",
     "output_type": "stream",
     "text": [
      "encrypt 5, with generator 7 and p 19:  11\n",
      "encrypt 6, with generator 7 and p 19:  1\n",
      "encrypt 334499, with generator 7 and p 19:  11\n",
      "let's what we get with negative number -5: 7\n",
      "The negative number is the same thing as applying the exponentiation to the inverse multiplicative 11\n"
     ]
    }
   ],
   "source": [
    "# define the encryption function\n",
    "# all operations defined on Galois field G(p), with p being a prime number\n",
    "# encryption is done by exponentiation of a generator (a prime number too) to the power of the unencrypted value\n",
    "# Now fortunately, the pow() function in Python has an embedded functionality to apply a modulo\n",
    "#  and it even works on large numbers, by using reduction\n",
    "def encrypt(unencrypted, gen=generator,modulo=field_prime):\n",
    "    encrypted = pow(gen,unencrypted,modulo)\n",
    "    #print(\"exponentiated to : \", encrypted)\n",
    "    return encrypted\n",
    "    \n",
    "print(\"encrypt 5, with generator 7 and p 19: \",encrypt(5,gen=7,modulo=19))\n",
    "print(\"encrypt 6, with generator 7 and p 19: \",encrypt(6,gen=7,modulo=19))\n",
    "print(\"encrypt 334499, with generator 7 and p 19: \",encrypt(334499,gen=7,modulo=19))\n",
    "print('let\\'s what we get with negative number -5:',encrypt(-5,gen=7,modulo=19))\n",
    "print('The negative number is the same thing as applying the exponentiation to the inverse multiplicative',encrypt(14,gen=7,modulo=19) )\n"
   ]
  },
  {
   "cell_type": "markdown",
   "metadata": {},
   "source": [
    "## Now we see how we can do our first encryption of polynomial\n",
    "The way to do it is first to compute the polynomial in the unencrypted domain for a given r(a scalar that is used to compute the value of the polynomial, e.g. p(r)), then encrypt this result using the method described above.\n",
    "Then the prover computes it in the encrypted domain, returns it to the verifier.\n",
    "Finally, the Verifier verifies the 2 values match."
   ]
  },
  {
   "cell_type": "code",
   "execution_count": 185,
   "metadata": {},
   "outputs": [
    {
     "name": "stdout",
     "output_type": "stream",
     "text": [
      "the polynomial evaluated at r:  2550.0\n",
      "encrypted result:  211\n",
      "the result is: .... 211\n"
     ]
    }
   ],
   "source": [
    "# We have defined the polynomial earlier with its coefficients in p_polynomial_coefficients\n",
    "# let's compute the polynomial p(r) value for a given r (not a root)\n",
    "r=20\n",
    "evaluated_poly = np.polynomial.polynomial.polyval(r, p_polynomial_coefficients)\n",
    "print('the polynomial evaluated at r: ',evaluated_poly)\n",
    "# Now let's encrypt this value and see what we get\n",
    "encrypted_result = encrypt(int(evaluated_poly))\n",
    "print('encrypted result: ',encrypted_result)\n",
    "\n",
    "# The second part is to verify that we can get the same result when doing the computation in the encryted domain\n",
    "# How we do this is by having the verifier (he chooses a secret value where to evaluate the polynomial) give the encrypted value\n",
    "# of each x^i for the value r. In our case the prover needs the encrypted values for 11^3, 11^2, 11^1 and 11^0\n",
    "# For now we just want to see it in action, we are not yet implementing the protocol for Zero Knowledge proof\n",
    "encrypted_powers = []\n",
    "for index, order in enumerate(p_polynomial_coefficients):\n",
    "    encrypted_powers.append(encrypt(pow(r,index)))\n",
    "\n",
    "# Now let's compute E (p(11)) = encrypted_powers[0]^coeff[0] * encrypted_powers[1]^coeff[1] * encrypted_powers[2]^coeff[2] * encrypted_powers[3]^coeff[3] \n",
    "# We apply modulo a few times along the way to reduce the chance of overflow\n",
    "result = 1\n",
    "for index,coeff in enumerate(p_polynomial_coefficients):\n",
    "    result = (result * pow(encrypted_powers[index],int(coeff),field_prime)) % field_prime\n",
    "print('the result is: ....',result)\n"
   ]
  },
  {
   "cell_type": "code",
   "execution_count": 186,
   "metadata": {},
   "outputs": [
    {
     "name": "stdout",
     "output_type": "stream",
     "text": [
      "secret = 234\n",
      "[2, -3, 1]\n",
      "7\n"
     ]
    },
    {
     "ename": "AssertionError",
     "evalue": "<code object __call__ at 0x134fe4e30, file \"/Users/Jean-Marc/Documents/ZKsnark-notebook/.venv/lib/python3.12/site-packages/galois/_polys/_dense.py\", line 409> != <code object implementation at 0x1101109e0, file \"/Users/Jean-Marc/Documents/ZKsnark-notebook/.venv/lib/python3.12/site-packages/galois/_polys/_dense.py\", line 432>",
     "output_type": "error",
     "traceback": [
      "\u001b[0;31m---------------------------------------------------------------------------\u001b[0m",
      "\u001b[0;31mKeyError\u001b[0m                                  Traceback (most recent call last)",
      "File \u001b[0;32m_pydevd_sys_monitoring\\\\_pydevd_sys_monitoring_cython.pyx:592\u001b[0m, in \u001b[0;36m_pydevd_sys_monitoring_cython._get_func_code_info\u001b[0;34m()\u001b[0m\n",
      "\u001b[0;31mKeyError\u001b[0m: (432, '/Users/Jean-Marc/Documents/ZKsnark-notebook/.venv/lib/python3.12/site-packages/galois/_polys/_dense.py', <code object implementation at 0x1101109e0, file \"/Users/Jean-Marc/Documents/ZKsnark-notebook/.venv/lib/python3.12/site-packages/galois/_polys/_dense.py\", line 432>)",
      "\nDuring handling of the above exception, another exception occurred:\n",
      "\u001b[0;31mAssertionError\u001b[0m                            Traceback (most recent call last)",
      "Cell \u001b[0;32mIn[186], line 82\u001b[0m\n\u001b[1;32m     80\u001b[0m myVerifier \u001b[38;5;241m=\u001b[39m  Verifier_334([\u001b[38;5;241m2\u001b[39m,\u001b[38;5;241m-\u001b[39m\u001b[38;5;241m3\u001b[39m,\u001b[38;5;241m1\u001b[39m])\n\u001b[1;32m     81\u001b[0m \u001b[38;5;28mprint\u001b[39m(myVerifier\u001b[38;5;241m.\u001b[39mtarget_polynomial_coefficients)\n\u001b[0;32m---> 82\u001b[0m \u001b[43mmyVerifier\u001b[49m\u001b[38;5;241;43m.\u001b[39;49m\u001b[43mevaluate_unencrypted_target_polynomial\u001b[49m\u001b[43m(\u001b[49m\u001b[43m)\u001b[49m\n\u001b[1;32m     83\u001b[0m myVerifier\u001b[38;5;241m.\u001b[39mcalculate_encrypted_powers()\n\u001b[1;32m     85\u001b[0m \u001b[38;5;66;03m# just to make sure everything works fine, let's test this implementation with the same values we used in the \u001b[39;00m\n\u001b[1;32m     86\u001b[0m \u001b[38;5;66;03m# preceding block\u001b[39;00m\n",
      "Cell \u001b[0;32mIn[186], line 69\u001b[0m, in \u001b[0;36mVerifier_334.evaluate_unencrypted_target_polynomial\u001b[0;34m(self)\u001b[0m\n\u001b[1;32m     67\u001b[0m \u001b[38;5;28mprint\u001b[39m(galois\u001b[38;5;241m.\u001b[39mprimitive_root(\u001b[38;5;28mself\u001b[39m\u001b[38;5;241m.\u001b[39mfield_prime))\n\u001b[1;32m     68\u001b[0m target_poly \u001b[38;5;241m=\u001b[39m galois\u001b[38;5;241m.\u001b[39mPoly(\u001b[38;5;28mself\u001b[39m\u001b[38;5;241m.\u001b[39mtarget_desc_coeffs, field\u001b[38;5;241m=\u001b[39mGF)\n\u001b[0;32m---> 69\u001b[0m evaluated_poly \u001b[38;5;241m=\u001b[39m \u001b[43mtarget_poly\u001b[49m\u001b[43m(\u001b[49m\u001b[38;5;28;43mself\u001b[39;49m\u001b[38;5;241;43m.\u001b[39;49m\u001b[43ms\u001b[49m\u001b[43m)\u001b[49m\n\u001b[1;32m     70\u001b[0m \u001b[38;5;28mprint\u001b[39m(\u001b[38;5;124mf\u001b[39m\u001b[38;5;124m'\u001b[39m\u001b[38;5;124mthe polynomial evaluated at s = \u001b[39m\u001b[38;5;132;01m{\u001b[39;00m\u001b[38;5;28mself\u001b[39m\u001b[38;5;241m.\u001b[39ms\u001b[38;5;132;01m}\u001b[39;00m\u001b[38;5;124m is \u001b[39m\u001b[38;5;132;01m{\u001b[39;00mevaluated_poly\u001b[38;5;132;01m}\u001b[39;00m\u001b[38;5;124m \u001b[39m\u001b[38;5;124m'\u001b[39m)\n\u001b[1;32m     71\u001b[0m \u001b[38;5;66;03m# Now let's encrypt this value and see what we get\u001b[39;00m\n",
      "File \u001b[0;32m~/Documents/ZKsnark-notebook/.venv/lib/python3.12/site-packages/galois/_polys/_poly.py:1075\u001b[0m, in \u001b[0;36mPoly.__call__\u001b[0;34m(self, at, field, elementwise)\u001b[0m\n\u001b[1;32m   1072\u001b[0m x \u001b[38;5;241m=\u001b[39m field(at)  \u001b[38;5;66;03m# An array of finite field elements\u001b[39;00m\n\u001b[1;32m   1074\u001b[0m \u001b[38;5;28;01mif\u001b[39;00m elementwise:\n\u001b[0;32m-> 1075\u001b[0m     output \u001b[38;5;241m=\u001b[39m \u001b[43m_dense\u001b[49m\u001b[38;5;241;43m.\u001b[39;49m\u001b[43mevaluate_elementwise_jit\u001b[49m\u001b[43m(\u001b[49m\u001b[43mfield\u001b[49m\u001b[43m)\u001b[49m\u001b[43m(\u001b[49m\u001b[43mcoeffs\u001b[49m\u001b[43m,\u001b[49m\u001b[43m \u001b[49m\u001b[43mx\u001b[49m\u001b[43m)\u001b[49m\n\u001b[1;32m   1076\u001b[0m \u001b[38;5;28;01melse\u001b[39;00m:\n\u001b[1;32m   1077\u001b[0m     \u001b[38;5;28;01mif\u001b[39;00m \u001b[38;5;129;01mnot\u001b[39;00m (x\u001b[38;5;241m.\u001b[39mndim \u001b[38;5;241m==\u001b[39m \u001b[38;5;241m2\u001b[39m \u001b[38;5;129;01mand\u001b[39;00m x\u001b[38;5;241m.\u001b[39mshape[\u001b[38;5;241m0\u001b[39m] \u001b[38;5;241m==\u001b[39m x\u001b[38;5;241m.\u001b[39mshape[\u001b[38;5;241m1\u001b[39m]):\n",
      "File \u001b[0;32m~/Documents/ZKsnark-notebook/.venv/lib/python3.12/site-packages/galois/_polys/_dense.py:415\u001b[0m, in \u001b[0;36mevaluate_elementwise_jit.__call__\u001b[0;34m(self, coeffs, x)\u001b[0m\n\u001b[1;32m    412\u001b[0m x \u001b[38;5;241m=\u001b[39m np\u001b[38;5;241m.\u001b[39matleast_1d(x\u001b[38;5;241m.\u001b[39mflatten())\n\u001b[1;32m    414\u001b[0m \u001b[38;5;28;01mif\u001b[39;00m \u001b[38;5;28mself\u001b[39m\u001b[38;5;241m.\u001b[39mfield\u001b[38;5;241m.\u001b[39mufunc_mode \u001b[38;5;241m!=\u001b[39m \u001b[38;5;124m\"\u001b[39m\u001b[38;5;124mpython-calculate\u001b[39m\u001b[38;5;124m\"\u001b[39m:\n\u001b[0;32m--> 415\u001b[0m     y \u001b[38;5;241m=\u001b[39m \u001b[38;5;28;43mself\u001b[39;49m\u001b[38;5;241;43m.\u001b[39;49m\u001b[43mjit\u001b[49m\u001b[43m(\u001b[49m\u001b[43mcoeffs\u001b[49m\u001b[38;5;241;43m.\u001b[39;49m\u001b[43mastype\u001b[49m\u001b[43m(\u001b[49m\u001b[43mnp\u001b[49m\u001b[38;5;241;43m.\u001b[39;49m\u001b[43mint64\u001b[49m\u001b[43m)\u001b[49m\u001b[43m,\u001b[49m\u001b[43m \u001b[49m\u001b[43mx\u001b[49m\u001b[38;5;241;43m.\u001b[39;49m\u001b[43mastype\u001b[49m\u001b[43m(\u001b[49m\u001b[43mnp\u001b[49m\u001b[38;5;241;43m.\u001b[39;49m\u001b[43mint64\u001b[49m\u001b[43m)\u001b[49m\u001b[43m)\u001b[49m\n\u001b[1;32m    416\u001b[0m     y \u001b[38;5;241m=\u001b[39m y\u001b[38;5;241m.\u001b[39mastype(dtype)\n\u001b[1;32m    417\u001b[0m \u001b[38;5;28;01melse\u001b[39;00m:\n",
      "File \u001b[0;32m<stringsource>:69\u001b[0m, in \u001b[0;36mcfunc.to_py.__Pyx_CFunc_893235__29_pydevd_sys_monitoring_cython_object__lParen__etc_to_py_4code_18instruction_offset.wrap\u001b[0;34m()\u001b[0m\n",
      "File \u001b[0;32m_pydevd_sys_monitoring\\\\_pydevd_sys_monitoring_cython.pyx:1697\u001b[0m, in \u001b[0;36m_pydevd_sys_monitoring_cython._start_method_event\u001b[0;34m()\u001b[0m\n",
      "File \u001b[0;32m_pydevd_sys_monitoring\\\\_pydevd_sys_monitoring_cython.pyx:599\u001b[0m, in \u001b[0;36m_pydevd_sys_monitoring_cython._get_func_code_info\u001b[0;34m()\u001b[0m\n",
      "\u001b[0;31mAssertionError\u001b[0m: <code object __call__ at 0x134fe4e30, file \"/Users/Jean-Marc/Documents/ZKsnark-notebook/.venv/lib/python3.12/site-packages/galois/_polys/_dense.py\", line 409> != <code object implementation at 0x1101109e0, file \"/Users/Jean-Marc/Documents/ZKsnark-notebook/.venv/lib/python3.12/site-packages/galois/_polys/_dense.py\", line 432>"
     ]
    }
   ],
   "source": [
    "\n",
    "# I think from here on out it would be good to have a verifier and a prover classes and clearly delineate the tasks they each\n",
    "# must perform. As the functionality will evolve as we make the protocol more complex, the classes will be named \n",
    "# using the chapter number defining the protocol\n",
    "\n",
    "# We will need random values from here on out, let's use the secrets module for it\n",
    "import secrets\n",
    "\n",
    "# There are some limitations with using the numpy package to evaluate the polynomial when using large numbers\n",
    "# Because of this we will use a [package](https://mhostetter.github.io/galois/latest/tutorials/intro-to-prime-fields/#prime-field) that can do polynomial evaluation in a Galois Field\n",
    "import galois\n",
    "\n",
    "# A few things are different from the example given in the preceding section\n",
    "# The verifier knows a polynomial t(x), called the target polynomial\n",
    "# The prover claims he knows a polynomial of order n p(x) that is divisible by t(x) (thus has t(x)'s roots as co-factors)\n",
    "# The prover wants to keep p(x) secret, but wants to prove he knows it\n",
    "# Thus the prover computes p(x)/t(x) = h(x), and will provide the value of p(s) and h(s) to the verifier\n",
    "# The prover uses s that is provided by the verifier, and the computation occurs in the encrypted domain\n",
    "# As is mentioned in the pdf document, we cannot exponentiate in the encrypted domain\n",
    "# That is why the verifier must provide the encrypted values of s for all orders of the polynomial\n",
    "# That is E(s^0), E(s^1), ... , E(s^n), where n is the polynomial order\n",
    "# Finally once the prover returns p(s) and h(s) to the verifier, the latter computes p(s)/t(s) and if it \n",
    "# matches p(s), then he knows it's correct (very bad protocol for now, but it'll get more secure)\n",
    "\n",
    "# Because we are going to implement multiple version of the protocol, I'll use the protocol module\n",
    "# There's a good explanation how it works at: https://idego-group.com/blog/2023/02/21/we-need-to-talk-about-protocols-in-python/\n",
    "from typing import Protocol\n",
    "\n",
    "class Verifier(Protocol):\n",
    "    def __init__(self, target_polynomial_coefficients: list[int], field_prime:int = field_prime, generator:int = generator):\n",
    "        super().__init__()\n",
    "        self.encrypted_powers = []\n",
    "        self.field_prime = field_prime\n",
    "        self.generator = generator\n",
    "        self.target_polynomial_coefficients = target_polynomial_coefficients\n",
    "        self.target_desc_coeffs = list(reversed(target_polynomial_coefficients))\n",
    "        self.s : int\n",
    "    \n",
    "    def calculate_encrypted_powers(self):\n",
    "        ...\n",
    "    \n",
    "    def evaluate_unencrypted_target_polynomial(self):\n",
    "        ...\n",
    "    \n",
    "    def set_secret(self, s:int):\n",
    "        ...\n",
    "    \n",
    "\n",
    "class Verifier_334(Verifier):\n",
    "# The verifier's tasks are as follows:\n",
    "# (a) sample a random value s, i.e., secret\n",
    "# (b) calculate encryptions of s for all powers i in 0, 1, ..., d, i.e.: E(si) = gsi\n",
    "# (c) evaluate unencrypted target polynomial with s: t(s)\n",
    "# (d) encrypted powers of s are provided to the prover: E(s0), E(s1), ..., E(sd)\n",
    "\n",
    "    def __init__(self, target_polynomial_coefficients: list[int], field_prime:int = field_prime, generator:int = generator):\n",
    "        super().__init__(target_polynomial_coefficients, field_prime, generator)\n",
    "        self.s = secrets.randbelow(self.field_prime) # (a)\n",
    "        print(f'secret = {self.s}')\n",
    "    \n",
    "    def calculate_encrypted_powers(self):\n",
    "        # (b) & (d)\n",
    "        for index, order in enumerate(self.target_polynomial_coefficients):\n",
    "            self.encrypted_powers.append(encrypt(pow(self.s,index,field_prime)))\n",
    "\n",
    "    def evaluate_unencrypted_target_polynomial(self):\n",
    "        GF = galois.GF(self.field_prime) # create a Finite Field\n",
    "        print(galois.primitive_root(self.field_prime))\n",
    "        target_poly = galois.Poly(self.target_desc_coeffs, field=GF)\n",
    "        evaluated_poly = target_poly(self.s)\n",
    "        print(f'the polynomial evaluated at s = {self.s} is {evaluated_poly} ')\n",
    "        # Now let's encrypt this value and see what we get\n",
    "        self.encrypted_result = encrypt(int(evaluated_poly))\n",
    "        print('encrypted result: ',self.encrypted_result)  \n",
    "\n",
    "    def set_secret(self, s:int):\n",
    "        self.s = s\n",
    "\n",
    "# let's exercise this new class\n",
    "# target poly is (x-1)(x-2), which is equivalent to 2 -3x +x^2\n",
    "myVerifier =  Verifier_334([2,-3,1])\n",
    "print(myVerifier.target_polynomial_coefficients)\n",
    "myVerifier.evaluate_unencrypted_target_polynomial()\n",
    "myVerifier.calculate_encrypted_powers()\n",
    "\n",
    "# just to make sure everything works fine, let's test this implementation with the same values we used in the \n",
    "# preceding block\n",
    "myValidatedVerifier = Verifier_334(p_polynomial_coefficients)\n",
    "myValidatedVerifier.set_secret(20)\n",
    "print(myValidatedVerifier.target_polynomial_coefficients)\n",
    "myValidatedVerifier.evaluate_unencrypted_target_polynomial()\n",
    "\n",
    "# it is not working, the reason is that any value used in the computation of the GF must be in the finite field.\n",
    "# so what we see is that the evaluation of the polynomial in the first implementation returns 2550 for r=20\n",
    "# With the GF, the evaluated value is 140, which is 2550 mod 241! For this test we have been using 241 as the field prime\n",
    "# How can we explain that the prover's result matches the verifier's then? \n",
    "# it seems to me that there is a good chance that is because the power of r values are outside of the field limit\n",
    "# So, if we take a field prime that is big enough, the results will match. Let's see if this works: new field prime = 7919\n",
    "# Result is that it works indeed! But I think the field prime should be "
   ]
  },
  {
   "cell_type": "code",
   "execution_count": null,
   "metadata": {},
   "outputs": [
    {
     "name": "stdout",
     "output_type": "stream",
     "text": [
      "the polynomial evaluated at r:  2550.0\n",
      "encrypted result:  211\n",
      "the result is: .... 211\n"
     ]
    }
   ],
   "source": [
    "evaluated_poly = np.polynomial.polynomial.polyval(r, p_polynomial_coefficients)\n",
    "print('the polynomial evaluated at r: ',evaluated_poly)\n",
    "# Now let's encrypt this value and see what we get\n",
    "encrypted_result = encrypt(int(evaluated_poly))\n",
    "print('encrypted result: ',encrypted_result)\n",
    "\n",
    "# The second part is to verify that we can get the same result when doing the computation in the encryted domain\n",
    "# How we do this is by having the verifier (he chooses a secret value where to evaluate the polynomial) give the encrypted value\n",
    "# of each x^i for the value r. In our case the prover needs the encrypted values for 11^3, 11^2, 11^1 and 11^0\n",
    "# For now we just want to see it in action, we are not yet implementing the protocol for Zero Knowledge proof\n",
    "encrypted_powers = []\n",
    "for index, order in enumerate(p_polynomial_coefficients):\n",
    "    encrypted_powers.append(encrypt(pow(r,index)))\n",
    "\n",
    "# Now let's compute E (p(11)) = encrypted_powers[0]^coeff[0] * encrypted_powers[1]^coeff[1] * encrypted_powers[2]^coeff[2] * encrypted_powers[3]^coeff[3] \n",
    "# We apply modulo a few times along the way to reduce the chance of overflow\n",
    "result = 1\n",
    "for index,coeff in enumerate(p_polynomial_coefficients):\n",
    "    result = (result * pow(encrypted_powers[index],int(coeff),field_prime)) % field_prime\n",
    "print('the result is: ....',result)\n",
    "\n",
    "# I think from here on out it would be good to have a verifier functin and a prover function and clearly delineates the tasks they each\n",
    "# must perform. As the functionality will evolve as we make the protocol more complex, the functions will be named \n",
    "# using the chapter number defining the protocol\n",
    "\n",
    "# We will need random values from here on out, let's use the secrets module for it\n",
    "import secrets\n",
    "\n",
    "def verifier_334():\n",
    "# The verifier's tasks are as follows:\n",
    "# (a) sample a random value s, i.e., secret\n",
    "# (b) calculate encryptions of s for all powers i in 0, 1, ..., d, i.e.: E(si) = gsi\n",
    "# (c) evaluate unencrypted target polynomial with s: t(s)\n",
    "# (d) encrypted powers of s are provided to the prover: E(s0), E(s1), ..., E(sd)\n",
    "\n",
    "    s = secrets.randbelow(field_prime) # (a)\n",
    "\n",
    "    encrypted_powers = [] # (b) & (d)\n",
    "    for index, order in enumerate(p_polynomial_coefficients):\n",
    "        encrypted_powers.append(encrypt(pow(s,index)))\n",
    "\n",
    "     # let's compute the polynomial p(r) value with r = 11 (not a root)\n",
    "    evaluated_poly2 = np.polynomial.polynomial.polyval(11, calculated_coefficients)\n",
    "    print('the polynomial evaluated at 11: ',evaluated_poly2)\n",
    "    # Now let's encrypt this value and see what we get\n",
    "    encrypted_result2 = encrypt(int(evaluated_poly2))\n",
    "    print('encrypted result: ',encrypted_result2)       \n"
   ]
  }
 ],
 "metadata": {
  "kernelspec": {
   "display_name": ".venv",
   "language": "python",
   "name": "python3"
  },
  "language_info": {
   "codemirror_mode": {
    "name": "ipython",
    "version": 3
   },
   "file_extension": ".py",
   "mimetype": "text/x-python",
   "name": "python",
   "nbconvert_exporter": "python",
   "pygments_lexer": "ipython3",
   "version": "3.12.1"
  },
  "orig_nbformat": 4
 },
 "nbformat": 4,
 "nbformat_minor": 2
}
