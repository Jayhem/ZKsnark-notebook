{
 "cells": [
  {
   "cell_type": "markdown",
   "metadata": {},
   "source": [
    "# Basic homomorphic encryption\n",
    "Let's start with some basic homomorphic encryption using exponentiation of a generator and modulo\n",
    "\n",
    "The first step is to get a polynomial computed in the unencrypted domain, and in the encrypted domain\n",
    "\n",
    "$$ p(x)= c0 + c1*x + c2*x^2 +c3*x^3 $$\n",
    "\n",
    "The other way to represent this polynomial is by looking using co-factors, which uses the roots (solution) of the polynomial.\n",
    "\n",
    "$$ p(x) = (x - r1) * (x - r2) * (x - r3) = 0 $$\n"
   ]
  },
  {
   "cell_type": "code",
   "execution_count": 72,
   "metadata": {},
   "outputs": [
    {
     "name": "stdout",
     "output_type": "stream",
     "text": [
      "[-150.   95.  -18.    1.]\n"
     ]
    },
    {
     "data": {
      "text/markdown": [
       "$$ p(x)= -150 + 95 * x^1 - 18 * x^2 + 1 * x^3 $$"
      ],
      "text/plain": [
       "<IPython.core.display.Markdown object>"
      ]
     },
     "execution_count": 72,
     "metadata": {},
     "output_type": "execute_result"
    }
   ],
   "source": [
    "from IPython.display import Markdown as md\n",
    "import numpy as np\n",
    "# Values for the user to input, if he wants to\n",
    "generator = 19\n",
    "field_prime = 23\n",
    "\n",
    "# x^3 - 18 x^2 + 80 x - 96 = 0\n",
    "# Co-factors (roots) for this polynomial are [2,4,12]\n",
    "\n",
    "# Let's compute the coefficents from known roots and see what we get. \n",
    "# We'll use numpy's integrated function to do this\n",
    "polynomial_roots = [10,3,5]\n",
    "calculated_coefficients = np.polynomial.polynomial.polyfromroots(polynomial_roots)\n",
    "print(calculated_coefficients)\n",
    "#p_polynomial_coefficents = [96,80,-18,1]\n",
    "p_polynomial_coefficents = calculated_coefficients.astype(int)\n",
    "target_polynomial_coefficents = []\n",
    "\n",
    "# change_variables = input(\"Do you want to change variables?\")\n",
    "# if change_variables == \"yes\":\n",
    "#     generator = input(\"generator\")\n",
    "\n",
    "equation = \"$$ p(x)= \"\n",
    "\n",
    "for index, coeff in enumerate(p_polynomial_coefficents):\n",
    "\n",
    "    if index == 0:\n",
    "        equation+= str(coeff)\n",
    "    else:\n",
    "        if coeff >= 0:\n",
    "            equation+= (\" + \")\n",
    "        else:\n",
    "            equation+= (\" - \")\n",
    "        equation+= str(abs(coeff))\n",
    "        equation+= (\" * x^{}\".format(index))\n",
    "               \n",
    "equation+= (\" $$\")\n",
    "md(equation)\n",
    "#md(\"$$ p(x)= {} + {}*x + c2*x^2 $$\".format(p_polynomial_coefficents[0],p_polynomial_coefficents[1]))"
   ]
  },
  {
   "cell_type": "code",
   "execution_count": 73,
   "metadata": {},
   "outputs": [
    {
     "name": "stdout",
     "output_type": "stream",
     "text": [
      "encrypt 5, with generator 7 and p 19:  11\n",
      "encrypt 6, with generator 7 and p 19:  2\n",
      "encrypt 334499, with generator 7 and p 19:  22\n",
      "let's what we get with negative number -5, 21\n"
     ]
    }
   ],
   "source": [
    "# define the encryption function\n",
    "# all operations defined on Galois field G(p), with p being a prime number\n",
    "# encryption is done by exponentiation of a generator (a prime number too) to the power of the unencrypted value\n",
    "# Now fortunately, the pow() function in Python has an embedded functionality to apply a modulo\n",
    "#  and it even works on large numbers, by using reduction\n",
    "def encrypt(unencrypted, gen=generator,modulo=field_prime):\n",
    "    encrypted = pow(gen,unencrypted,modulo)\n",
    "    #print(\"exponentiated to : \", encrypted)\n",
    "    return encrypted\n",
    "    \n",
    "print(\"encrypt 5, with generator 7 and p 19: \",encrypt(5))\n",
    "print(\"encrypt 6, with generator 7 and p 19: \",encrypt(6))\n",
    "print(\"encrypt 334499, with generator 7 and p 19: \",encrypt(334499))\n",
    "print('let\\'s what we get with negative number -5,',encrypt(-5))\n"
   ]
  },
  {
   "cell_type": "markdown",
   "metadata": {},
   "source": [
    "## Now we see how we can do our first encryption of polynomial\n",
    "The way to do it is first to compute the polynomial in the unencrypted domain for a given r(a scalar that is used do compute the value of the polynomial, e.g. p(r)), then encrypt this result using the method described above.\n",
    "Then the prover computes it in the encrypted domain, returns it to the verifier.\n",
    "Finally, the Verifier verifies the 2 values match."
   ]
  },
  {
   "cell_type": "code",
   "execution_count": null,
   "metadata": {},
   "outputs": [
    {
     "name": "stdout",
     "output_type": "stream",
     "text": [
      "the polynomial evaluated at r:  7.992729468039183e+30\n",
      "encrypted result:  8\n",
      "the result is: .... 1\n"
     ]
    }
   ],
   "source": [
    "# We have defined the polynomial earlier with its coefficients in calculated_coefficients\n",
    "# let's compute the polynomial p(r) value with r = 11 (not a root)\n",
    "r=21\n",
    "evaluated_poly = np.polynomial.polynomial.polyval(r, p_polynomial_coefficents)\n",
    "print('the polynomial evaluated at r: ',evaluated_poly)\n",
    "# Now let's encrypt this value and see what we get\n",
    "encrypted_result = encrypt(int(evaluated_poly))\n",
    "print('encrypted result: ',encrypted_result)\n",
    "\n",
    "# The second part is to verify that we can get the same result when doing the computation in the encryted domain\n",
    "# How we do this is by having the verifier (he chooses a secret value where to evaluate the polynomial) give the encrypted value\n",
    "# of each x^i for the value r. In our case the prover needs the encrypted values for 11^3, 11^2, 11^1 and 11^0\n",
    "# For now we just want to see it in action, we are not yet implementing the protocol for Zero Knowledge proof\n",
    "encrypted_powers = []\n",
    "for index, order in enumerate(p_polynomial_coefficents):\n",
    "    encrypted_powers.append(encrypt(pow(r,index)))\n",
    "\n",
    "# Now let's compute E (p(11)) = encrypted_powers[0]^coeff[0] * encrypted_powers[1]^coeff[1] * encrypted_powers[2]^coeff[2] * encrypted_powers[3]^coeff[3] \n",
    "# We apply modulo a few times along the way to reduce the chance of overflow\n",
    "result = 1\n",
    "for index,coeff in enumerate(p_polynomial_coefficents):\n",
    "    result = (result * pow(encrypted_powers[index],int(coeff),field_prime)) % field_prime\n",
    "print('the result is: ....',result)\n",
    "\n",
    "# I think from here on out it would be good to have a verifier functin and a prover function and clearly delineates the tasks they each\n",
    "# must perform. As the functionality will evolve as we make the protocol more complex, the functions will be named \n",
    "# using the chapter number defining the protocol\n",
    "\n",
    "# We will need random values from here on out, let's use the secrets module for it\n",
    "import secrets\n",
    "\n",
    "def verifier_334():\n",
    "# The verifier's tasks are as follows:\n",
    "# (a) sample a random value s, i.e., secret\n",
    "# (b) calculate encryptions of s for all powers i in 0, 1, ..., d, i.e.: E(si) = gsi\n",
    "# (c) evaluate unencrypted target polynomial with s: t(s)\n",
    "# (d) encrypted powers of s are provided to the prover: E(s0), E(s1), ..., E(sd)\n",
    "\n",
    "    s = secrets.randbelow(field_prime) # (a)\n",
    "\n",
    "    encrypted_powers = [] # (b) & (d)\n",
    "    for index, order in enumerate(p_polynomial_coefficents):\n",
    "        encrypted_powers.append(encrypt(pow(s,index)))\n",
    "\n",
    "     # let's compute the polynomial p(r) value with r = 11 (not a root)\n",
    "    evaluated_poly2 = np.polynomial.polynomial.polyval(11, calculated_coefficients)\n",
    "    print('the polynomial evaluated at 11: ',evaluated_poly2)\n",
    "    # Now let's encrypt this value and see what we get\n",
    "    encrypted_result2 = encrypt(int(evaluated_poly2))\n",
    "    print('encrypted result: ',encrypted_result2)       \n"
   ]
  }
 ],
 "metadata": {
  "kernelspec": {
   "display_name": "base",
   "language": "python",
   "name": "python3"
  },
  "language_info": {
   "codemirror_mode": {
    "name": "ipython",
    "version": 3
   },
   "file_extension": ".py",
   "mimetype": "text/x-python",
   "name": "python",
   "nbconvert_exporter": "python",
   "pygments_lexer": "ipython3",
   "version": "3.9.12"
  },
  "orig_nbformat": 4
 },
 "nbformat": 4,
 "nbformat_minor": 2
}
