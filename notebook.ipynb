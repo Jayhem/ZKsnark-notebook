{
 "cells": [
  {
   "cell_type": "markdown",
   "metadata": {},
   "source": [
    "# Basic homomorphic encryption\n",
    "Let's start with some basic homomorphic encryption using exponentiation of a generator and modulo\n",
    "\n",
    "The first step is to get a polynomial computed in the unencrypted domain, and in the encrypted domain\n",
    "\n",
    "$$ p(x)= c0 + c1*x + c2*x^2 $$\n",
    "\n",
    "The other way to represent this polynomial is by using co-factors, which uses the roots (solution) of the polynomial.\n",
    "\n",
    "$$ p(x) = (x - r1) * (x - r2) * (x - r3) = 0\n"
   ]
  },
  {
   "cell_type": "code",
   "execution_count": 16,
   "metadata": {},
   "outputs": [
    {
     "data": {
      "text/markdown": [
       "$$ p(x)= 96 + 80 * x^1 - 18 * x^2 + 1 * x^3 $$"
      ],
      "text/plain": [
       "<IPython.core.display.Markdown object>"
      ]
     },
     "execution_count": 16,
     "metadata": {},
     "output_type": "execute_result"
    }
   ],
   "source": [
    "from IPython.display import Markdown as md\n",
    "# Values for the user to input, if he wants to\n",
    "generator = 5\n",
    "field_prime = 23\n",
    "\n",
    "# x^3 - 18 x^2 + 80 x - 96 = 0\n",
    "# Co-factors (roots) for this polynomial are [2,4,12]\n",
    "p_polynomial_coefficents = [96,80,-18,1]\n",
    "target_polynomial_coefficents = []\n",
    "\n",
    "# change_variables = input(\"Do you want to change variables?\")\n",
    "# if change_variables == \"yes\":\n",
    "#     generator = input(\"generator\")\n",
    "\n",
    "equation = \"$$ p(x)= \"\n",
    "\n",
    "for index, coeff in enumerate(p_polynomial_coefficents):\n",
    "\n",
    "    if index == 0:\n",
    "        equation+= str(coeff)\n",
    "    else:\n",
    "        if coeff >= 0:\n",
    "            equation+= (\" + \")\n",
    "        else:\n",
    "            equation+= (\" - \")\n",
    "        equation+= str(abs(coeff))\n",
    "        equation+= (\" * x^{}\".format(index))\n",
    "               \n",
    "equation+= (\" $$\")\n",
    "md(equation)\n",
    "#md(\"$$ p(x)= {} + {}*x + c2*x^2 $$\".format(p_polynomial_coefficents[0],p_polynomial_coefficents[1]))"
   ]
  },
  {
   "cell_type": "code",
   "execution_count": 36,
   "metadata": {},
   "outputs": [
    {
     "name": "stdout",
     "output_type": "stream",
     "text": [
      "encrypt 5, with generator 7 and p 19:  11\n",
      "encrypt 6, with generator 7 and p 19:  1\n",
      "encrypt 334497, with generator 7 and p 19:  11\n"
     ]
    }
   ],
   "source": [
    "# define the encryption function\n",
    "# all operations defined on Galois field G(p), with p being a prime number\n",
    "# encryption is exponentiation of the non-encrypted data from a generator (also a prime)\n",
    "\n",
    "def prime_generator (unencrypted, gen=7):\n",
    "    encrypted = pow(gen,unencrypted)\n",
    "    #print(\"exponentiated to : \", encrypted)\n",
    "    return encrypted\n",
    "\n",
    "def galois(input, p=19):\n",
    "    return input % p\n",
    "\n",
    "def encrypt(input):       \n",
    "    return galois(prime_generator(input))\n",
    "    \n",
    "print(\"encrypt 5, with generator 7 and p 19: \",encrypt(5))\n",
    "print(\"encrypt 6, with generator 7 and p 19: \",encrypt(6))\n",
    "print(\"encrypt 334499, with generator 7 and p 19: \",encrypt(334499))\n"
   ]
  },
  {
   "cell_type": "markdown",
   "metadata": {},
   "source": [
    "## Now we see how we can do our first encryption of polynomial\n",
    "The way to do it is first to compute the polynomial in then unencrypted domain for a given r, then encrypts this result\n",
    "Then the prover computes it in the encrypted domain, returns it to verifier\n",
    "Verifier then verifies they match"
   ]
  },
  {
   "cell_type": "code",
   "execution_count": null,
   "metadata": {},
   "outputs": [],
   "source": []
  }
 ],
 "metadata": {
  "kernelspec": {
   "display_name": "Python 3.9.12 ('base')",
   "language": "python",
   "name": "python3"
  },
  "language_info": {
   "codemirror_mode": {
    "name": "ipython",
    "version": 3
   },
   "file_extension": ".py",
   "mimetype": "text/x-python",
   "name": "python",
   "nbconvert_exporter": "python",
   "pygments_lexer": "ipython3",
   "version": "undefined.undefined.undefined"
  },
  "orig_nbformat": 4,
  "vscode": {
   "interpreter": {
    "hash": "28f81600b685988e0961aa771517c2bd91e7355d4f298dea72f669ae5acff467"
   }
  }
 },
 "nbformat": 4,
 "nbformat_minor": 2
}
